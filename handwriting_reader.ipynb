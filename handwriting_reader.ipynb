{
 "cells": [
  {
   "cell_type": "markdown",
   "metadata": {},
   "source": [
    "# Handwriting Reader"
   ]
  },
  {
   "cell_type": "code",
   "execution_count": 5,
   "metadata": {},
   "outputs": [
    {
     "data": {
      "text/plain": [
       "'\\nfrom tensorflow.keras import layers\\nfrom tensorflow.keras.models import Sequential\\nfrom tensorflow.keras.layers import Dense, InputLayer\\nfrom tensorflow.keras.activations import relu,linear, softmax\\n'"
      ]
     },
     "execution_count": 5,
     "metadata": {},
     "output_type": "execute_result"
    }
   ],
   "source": [
    "import numpy as np\n",
    "import pandas as pd\n",
    "import matplotlib.pyplot as plt\n",
    "import seaborn as sns\n",
    "from sklearn.model_selection import train_test_split\n",
    "import tensorflow as tf\n",
    "import keras\n",
    "import pygame\n",
    "from PIL import Image\n",
    "\n",
    "from tensorflow.keras.optimizers import Adam\n",
    "from tensorflow.keras.losses import SparseCategoricalCrossentropy\n",
    "'''\n",
    "from tensorflow.keras import layers\n",
    "from tensorflow.keras.models import Sequential\n",
    "from tensorflow.keras.layers import Dense, InputLayer\n",
    "from tensorflow.keras.activations import relu,linear, softmax\n",
    "'''"
   ]
  },
  {
   "cell_type": "code",
   "execution_count": 2,
   "metadata": {},
   "outputs": [],
   "source": [
    "#I figured out these locations once and then saved them\n",
    "#Essentially this data is too much so I am finding the sections\n",
    "#which correspond to each letter so I can grab certain chunks of the data to train\n",
    "start_letter_locations = {0: 0, 1: 13869, 2: 22537, 3: 45946, 4: 56080, 5: 67520, \n",
    "                          6: 68683, 7: 74445, 8: 81663, 9: 82783, 10: 91276, 11: 96879, \n",
    "                          12: 108465, 13: 120801, 14: 139811, 15: 197636, 16: 216977, \n",
    "                          17: 222789, 18: 234355, 19: 282774, 20: 305269, 21: 334277, \n",
    "                          22: 338459, 23: 349243, 24: 355515, 25: 366374}\n",
    "\n",
    "#df = pd.read_csv('Data\\A_Z Handwritten Data.csv', skiprows=10000, nrows=10000)\n",
    "path = 'Data\\A_Z Handwritten Data.csv'\n",
    "\n",
    "num_rows = 5000\n",
    "\n",
    "df = pd.read_csv(path, nrows=num_rows)\n",
    "\n",
    "for i in range(1, 26):\n",
    "    df_temp = pd.read_csv(path, skiprows=lambda x: x not in [0] and x < start_letter_locations[i], nrows=num_rows+1)\n",
    "    #print(df_temp)\n",
    "    df = pd.concat([df, df_temp], ignore_index=True)\n",
    "    #df = df.append(df_temp, ignore_index=True)\n",
    "    #pd.concat(objs, axis=0, join=’outer’, ignore_index=False, keys=None)\n",
    "\n",
    "y = df['0']\n",
    "X = df.drop('0', axis=1)\n",
    "X = X / 255\n",
    "\n",
    "X_train, X_test, y_train, y_test = train_test_split(X, y, test_size=0.2)"
   ]
  },
  {
   "cell_type": "code",
   "execution_count": 3,
   "metadata": {},
   "outputs": [
    {
     "data": {
      "text/plain": [
       "array([ 0,  1,  2,  3,  4,  5,  6,  7,  8,  9, 10, 11, 12, 13, 14, 15, 16,\n",
       "       17, 18, 19, 20, 21, 22, 23, 24, 25], dtype=int64)"
      ]
     },
     "execution_count": 3,
     "metadata": {},
     "output_type": "execute_result"
    }
   ],
   "source": [
    "y.unique()"
   ]
  },
  {
   "cell_type": "code",
   "execution_count": 6,
   "metadata": {},
   "outputs": [],
   "source": [
    "model = keras.Sequential()\n",
    "model.add(keras.layers.Input(shape=(X_train.shape[1],)))\n",
    "model.add(keras.layers.Dense(128, activation='relu'))\n",
    "model.add(keras.layers.Dense(64, activation='relu'))\n",
    "model.add(keras.layers.Dense(26, activation='linear'))\n",
    "model.add(keras.layers.Softmax())\n",
    "\n",
    "model.compile(optimizer=Adam(learning_rate=0.0001), loss=SparseCategoricalCrossentropy(from_logits=True), metrics=['accuracy'])"
   ]
  },
  {
   "cell_type": "code",
   "execution_count": 7,
   "metadata": {},
   "outputs": [
    {
     "name": "stdout",
     "output_type": "stream",
     "text": [
      "Epoch 1/10\n"
     ]
    },
    {
     "name": "stderr",
     "output_type": "stream",
     "text": [
      "c:\\Users\\SamV\\Documents\\School\\Senior Year\\FINAL HANDWRITING\\.venv\\lib\\site-packages\\keras\\src\\backend\\tensorflow\\nn.py:625: UserWarning: \"`sparse_categorical_crossentropy` received `from_logits=True`, but the `output` argument was produced by a Softmax activation and thus does not represent logits. Was this intended?\n",
      "  output, from_logits = _get_logits(\n"
     ]
    },
    {
     "name": "stdout",
     "output_type": "stream",
     "text": [
      "\u001b[1m2845/2845\u001b[0m \u001b[32m━━━━━━━━━━━━━━━━━━━━\u001b[0m\u001b[37m\u001b[0m \u001b[1m0s\u001b[0m 5ms/step - accuracy: 0.5381 - loss: 1.7934"
     ]
    },
    {
     "name": "stderr",
     "output_type": "stream",
     "text": [
      "c:\\Users\\SamV\\Documents\\School\\Senior Year\\FINAL HANDWRITING\\.venv\\lib\\site-packages\\keras\\src\\backend\\tensorflow\\nn.py:625: UserWarning: \"`sparse_categorical_crossentropy` received `from_logits=True`, but the `output` argument was produced by a Softmax activation and thus does not represent logits. Was this intended?\n",
      "  output, from_logits = _get_logits(\n"
     ]
    },
    {
     "name": "stdout",
     "output_type": "stream",
     "text": [
      "\u001b[1m2845/2845\u001b[0m \u001b[32m━━━━━━━━━━━━━━━━━━━━\u001b[0m\u001b[37m\u001b[0m \u001b[1m22s\u001b[0m 7ms/step - accuracy: 0.5382 - loss: 1.7932 - val_accuracy: 0.8324 - val_loss: 0.6359\n",
      "Epoch 2/10\n",
      "\u001b[1m2845/2845\u001b[0m \u001b[32m━━━━━━━━━━━━━━━━━━━━\u001b[0m\u001b[37m\u001b[0m \u001b[1m17s\u001b[0m 6ms/step - accuracy: 0.8410 - loss: 0.5956 - val_accuracy: 0.8653 - val_loss: 0.5078\n",
      "Epoch 3/10\n",
      "\u001b[1m2845/2845\u001b[0m \u001b[32m━━━━━━━━━━━━━━━━━━━━\u001b[0m\u001b[37m\u001b[0m \u001b[1m16s\u001b[0m 5ms/step - accuracy: 0.8717 - loss: 0.4794 - val_accuracy: 0.8863 - val_loss: 0.4294\n",
      "Epoch 4/10\n",
      "\u001b[1m2845/2845\u001b[0m \u001b[32m━━━━━━━━━━━━━━━━━━━━\u001b[0m\u001b[37m\u001b[0m \u001b[1m17s\u001b[0m 6ms/step - accuracy: 0.8917 - loss: 0.4065 - val_accuracy: 0.8988 - val_loss: 0.3826\n",
      "Epoch 5/10\n",
      "\u001b[1m2845/2845\u001b[0m \u001b[32m━━━━━━━━━━━━━━━━━━━━\u001b[0m\u001b[37m\u001b[0m \u001b[1m18s\u001b[0m 6ms/step - accuracy: 0.9043 - loss: 0.3538 - val_accuracy: 0.9114 - val_loss: 0.3376\n",
      "Epoch 6/10\n",
      "\u001b[1m2845/2845\u001b[0m \u001b[32m━━━━━━━━━━━━━━━━━━━━\u001b[0m\u001b[37m\u001b[0m \u001b[1m18s\u001b[0m 6ms/step - accuracy: 0.9185 - loss: 0.3092 - val_accuracy: 0.9201 - val_loss: 0.3063\n",
      "Epoch 7/10\n",
      "\u001b[1m2845/2845\u001b[0m \u001b[32m━━━━━━━━━━━━━━━━━━━━\u001b[0m\u001b[37m\u001b[0m \u001b[1m18s\u001b[0m 6ms/step - accuracy: 0.9270 - loss: 0.2780 - val_accuracy: 0.9240 - val_loss: 0.2865\n",
      "Epoch 8/10\n",
      "\u001b[1m2845/2845\u001b[0m \u001b[32m━━━━━━━━━━━━━━━━━━━━\u001b[0m\u001b[37m\u001b[0m \u001b[1m19s\u001b[0m 7ms/step - accuracy: 0.9321 - loss: 0.2534 - val_accuracy: 0.9310 - val_loss: 0.2639\n",
      "Epoch 9/10\n",
      "\u001b[1m2845/2845\u001b[0m \u001b[32m━━━━━━━━━━━━━━━━━━━━\u001b[0m\u001b[37m\u001b[0m \u001b[1m19s\u001b[0m 7ms/step - accuracy: 0.9388 - loss: 0.2323 - val_accuracy: 0.9345 - val_loss: 0.2494\n",
      "Epoch 10/10\n",
      "\u001b[1m2845/2845\u001b[0m \u001b[32m━━━━━━━━━━━━━━━━━━━━\u001b[0m\u001b[37m\u001b[0m \u001b[1m19s\u001b[0m 6ms/step - accuracy: 0.9428 - loss: 0.2163 - val_accuracy: 0.9379 - val_loss: 0.2364\n"
     ]
    }
   ],
   "source": [
    "hist = model.fit(X_train, y_train, epochs=10, validation_data=(X_test, y_test))"
   ]
  },
  {
   "cell_type": "code",
   "execution_count": 8,
   "metadata": {},
   "outputs": [
    {
     "name": "stdout",
     "output_type": "stream",
     "text": [
      "\u001b[1m1219/1219\u001b[0m \u001b[32m━━━━━━━━━━━━━━━━━━━━\u001b[0m\u001b[37m\u001b[0m \u001b[1m2s\u001b[0m 2ms/step - accuracy: 0.9395 - loss: 0.2372\n",
      "Accuracy: 0.9379\n"
     ]
    }
   ],
   "source": [
    "test_loss, test_acc = model.evaluate(X_test, y_test)\n",
    "print(f'Accuracy: {test_acc:.4f}')  # formatted to show 4 decimal places"
   ]
  },
  {
   "cell_type": "code",
   "execution_count": 14,
   "metadata": {},
   "outputs": [
    {
     "data": {
      "image/png": "[encoded data removed]",
      "text/plain": [
       "<Figure size 640x480 with 1 Axes>"
      ]
     },
     "metadata": {},
     "output_type": "display_data"
    },
    {
     "name": "stdout",
     "output_type": "stream",
     "text": [
      "\u001b[1m1/1\u001b[0m \u001b[32m━━━━━━━━━━━━━━━━━━━━\u001b[0m\u001b[37m\u001b[0m \u001b[1m0s\u001b[0m 51ms/step\n",
      "Model Prediction:  E\n"
     ]
    }
   ],
   "source": [
    "letters = []\n",
    "for i in range(65, 91):\n",
    "    letter = chr(i)\n",
    "    letters.append(letter)\n",
    "\n",
    "random_index = 21000\n",
    "plt.imshow(X.iloc[random_index].values.reshape(28, 28), cmap='crest')\n",
    "plt.show()\n",
    "\n",
    "prediction = model.predict(np.array([X.iloc[random_index].values]))\n",
    "print('Model Prediction: ', letters[np.argmax(prediction)])"
   ]
  },
  {
   "cell_type": "code",
   "execution_count": 11,
   "metadata": {},
   "outputs": [],
   "source": [
    "#This function just turns the users drawn image into the format which \n",
    "#is the same as that of the dataset which I trained on. \n",
    "def downsample(df, block_size):\n",
    "    arr = df.to_numpy()\n",
    "\n",
    "    new_height = arr.shape[0] // block_size\n",
    "    new_width = arr.shape[1] // block_size\n",
    "\n",
    "    new_arr = np.zeros((new_height, new_width), dtype=bool)\n",
    "\n",
    "    for i in range(new_height):\n",
    "        for j in range(new_width):\n",
    "            vertical_slice = slice(i * block_size, (i + 1) * block_size)\n",
    "            horizontal_slice = slice(j * block_size, (j + 1) * block_size)\n",
    "\n",
    "            block = arr[vertical_slice, horizontal_slice]\n",
    "\n",
    "            new_arr[i, j] = np.any(block)\n",
    "\n",
    "    return pd.DataFrame(new_arr)\n",
    "\n",
    "\n",
    "    '''\n",
    "    lists = [[] for _ in range(28)]\n",
    "    #df_lists = pd.DataFrame(np.nan, index=range(28), columns=range(28))\n",
    "\n",
    "    for i in range(block_size):\n",
    "        for j in range(block_size):\n",
    "            all_vals = []\n",
    "            for m in range(28):\n",
    "                for n in range(28):\n",
    "                    row = (i*28) + m\n",
    "                    col = (j*28) + n\n",
    "                    val = df.iloc[row, col]\n",
    "                    all_vals.append(val)\n",
    "            lists[i].append(all_vals)\n",
    "\n",
    "    bool_list = pd.DataFrame(np.nan, index=range(28), columns=range(28))\n",
    "    count_list = pd.DataFrame(np.nan, index=range(28), columns=range(28))\n",
    "\n",
    "    for r in range(len(lists)):\n",
    "        for c in range(len(lists[r])):\n",
    "            count = sum(lists[r][c])\n",
    "            if count > 0:\n",
    "                bool_list.iloc[r, c] = True\n",
    "            else:\n",
    "                bool_list.iloc[r, c] = False\n",
    "            count_list.iloc[r, c] = count\n",
    "\n",
    "    return (bool_list, count_list)\n",
    "    '''"
   ]
  },
  {
   "cell_type": "code",
   "execution_count": 15,
   "metadata": {},
   "outputs": [],
   "source": [
    "#This just turns a dataframe in our usual formatting to an image\n",
    "def df_to_image(df):\n",
    "    array = df.to_numpy()\n",
    "    #The next two lines came from chatGPT 3.5\n",
    "    image_data = np.where(array, 0, 255).astype(np.uint8)\n",
    "    img = Image.fromarray(image_data, 'L')  # 'L' mode for grayscale\n",
    "\n",
    "    return img"
   ]
  },
  {
   "cell_type": "code",
   "execution_count": 21,
   "metadata": {},
   "outputs": [
    {
     "name": "stderr",
     "output_type": "stream",
     "text": [
      "C:\\Users\\SamV\\AppData\\Local\\Temp\\ipykernel_28612\\2223934219.py:63: FutureWarning: DataFrame.applymap has been deprecated. Use DataFrame.map instead.\n",
      "  single_row_color = single_row_bool.applymap(lambda x: 255 if x else 0)\n"
     ]
    },
    {
     "data": {
      "image/png": "[encoded data removed]",
      "text/plain": [
       "<Figure size 640x480 with 1 Axes>"
      ]
     },
     "metadata": {},
     "output_type": "display_data"
    },
    {
     "name": "stdout",
     "output_type": "stream",
     "text": [
      "\u001b[1m1/1\u001b[0m \u001b[32m━━━━━━━━━━━━━━━━━━━━\u001b[0m\u001b[37m\u001b[0m \u001b[1m0s\u001b[0m 61ms/step\n",
      "Model Prediction:  M\n"
     ]
    }
   ],
   "source": [
    "pygame.init()\n",
    "\n",
    "width, height = 28**2, 28**2  \n",
    "background_color = (0, 0, 0)\n",
    "draw_color = (255, 255, 255)\n",
    "line_thickness = 2\n",
    "\n",
    "#Set up the general window and stuff\n",
    "screen = pygame.display.set_mode((width, height))\n",
    "pygame.display.set_caption(\"Draw Here!\")\n",
    "screen.fill(background_color)\n",
    "clock = pygame.time.Clock()\n",
    "\n",
    "drawing = False\n",
    "running = True\n",
    "\n",
    "while running:\n",
    "    for event in pygame.event.get():\n",
    "        if event.type == pygame.QUIT:\n",
    "            running = False\n",
    "        elif event.type == pygame.KEYDOWN:\n",
    "            if event.key == pygame.K_RETURN:\n",
    "                running = False\n",
    "        elif event.type == pygame.MOUSEBUTTONDOWN:\n",
    "            drawing = True\n",
    "        elif event.type == pygame.MOUSEBUTTONUP:\n",
    "            drawing = False\n",
    "        elif event.type == pygame.MOUSEMOTION and drawing:\n",
    "            pygame.draw.circle(screen, draw_color, event.pos, line_thickness)\n",
    "\n",
    "    pygame.display.flip()\n",
    "    clock.tick(60)\n",
    "\n",
    "#Chat GPT 3.5 helped with the following 4 lines of code\n",
    "buffer_string = pygame.image.tostring(screen, 'RGB')\n",
    "image = pygame.image.fromstring(buffer_string, (width, height), 'RGB')\n",
    "array = pygame.surfarray.array3d(image)\n",
    "\n",
    "is_colored = np.any(array != np.array(background_color).reshape(1, 1, 3), axis=2)\n",
    "\n",
    "df = pd.DataFrame(is_colored)\n",
    "df_condensed = downsample(df, 28)\n",
    "\n",
    "df_condensed = df_condensed.T #Because it was formatting and shaping it wrong otherwise\n",
    "df_final = df_condensed.copy()\n",
    "\n",
    "for r in range(len(df_condensed)):\n",
    "    for c, col_name in enumerate(df_condensed.columns):\n",
    "        surrounding_list = []\n",
    "        for r_add in range(-1, 2):\n",
    "            for c_add in range(-1, 2):\n",
    "                if r+r_add != -1:\n",
    "                    try:\n",
    "                        surrounding_list.append(df_condensed.iat[r+r_add, c+c_add])\n",
    "                    except IndexError:\n",
    "                        pass\n",
    "        if True in surrounding_list:\n",
    "            df_final.at[r, c] = True\n",
    "\n",
    "pygame.quit()\n",
    "\n",
    "single_row_bool = pd.DataFrame(df_final.values.flatten()).T\n",
    "single_row_color = single_row_bool.applymap(lambda x: 255 if x else 0)\n",
    "single_row_color = single_row_color / 255\n",
    "\n",
    "plt.imshow(single_row_color.iloc[0].values.reshape(28, 28), cmap='crest')\n",
    "plt.show()\n",
    "\n",
    "pred_v = model.predict(np.array([single_row_color.iloc[0].values]))\n",
    "print('Model Prediction: ', letters[np.argmax(pred_v)])"
   ]
  }
 ],
 "metadata": {
  "kernelspec": {
   "display_name": ".venv",
   "language": "python",
   "name": "python3"
  },
  "language_info": {
   "codemirror_mode": {
    "name": "ipython",
    "version": 3
   },
   "file_extension": ".py",
   "mimetype": "text/x-python",
   "name": "python",
   "nbconvert_exporter": "python",
   "pygments_lexer": "ipython3",
   "version": "3.9.13"
  }
 },
 "nbformat": 4,
 "nbformat_minor": 2
}
